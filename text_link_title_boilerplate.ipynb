{
 "cells": [
  {
   "cell_type": "code",
   "execution_count": null,
   "metadata": {},
   "outputs": [],
   "source": [
    "from bs4 import BeautifulSoup\n",
    "import requests\n",
    "from neo4j import GraphDatabase\n",
    "import re\n",
    "import time\n",
    "import os\n",
    "from dotenv import load_dotenv\n",
    "\n",
    "# Load environment variables\n",
    "load_dotenv()\n",
    "\n",
    "# Neo4j connection details\n",
    "URI = \"neo4j://localhost:7687\"\n",
    "USERNAME = \"neo4j\"\n",
    "PASSWORD = os.getenv(\"NEO4J_PASSWORD\") \n",
    "driver = GraphDatabase.driver(URI, auth=(USERNAME, PASSWORD))\n"
   ]
  },
  {
   "cell_type": "code",
   "execution_count": 2,
   "metadata": {},
   "outputs": [
    {
     "name": "stdout",
     "output_type": "stream",
     "text": [
      "A000001\n",
      "https://oeis.org/A000001\n",
      "A000002\n",
      "https://oeis.org/A000002\n",
      "A000003\n",
      "https://oeis.org/A000003\n",
      "A000004\n",
      "https://oeis.org/A000004\n",
      "A000005\n",
      "https://oeis.org/A000005\n",
      "A000006\n",
      "https://oeis.org/A000006\n",
      "A000007\n",
      "https://oeis.org/A000007\n",
      "A000008\n",
      "https://oeis.org/A000008\n",
      "A000009\n",
      "https://oeis.org/A000009\n",
      "10.665527105331421 secs\n"
     ]
    }
   ],
   "source": [
    "init_time = time.time()\n",
    "with driver.session() as session:\n",
    "\n",
    "    for i in range(1, 10):  # Start from 1 and go up to 1000\n",
    "\n",
    "        sequence_number = f\"A{i:06d}\"  # Format number with leading zeros (6 digits)\n",
    "        print(sequence_number)\n",
    "\n",
    "\n",
    "\n",
    "        url = \"https://oeis.org/\"+sequence_number\n",
    "        print(url)\n",
    "        response = requests.get(url)\n",
    "        soup = BeautifulSoup(response.content, \"html.parser\")\n",
    "\n",
    "        seqname = soup.find(\"div\", class_=\"seqname\")\n",
    "        seqdata = soup.find(\"div\", class_=\"seqdata\")\n",
    "\n",
    "        # Extract and print text\n",
    "        seq_name = seqname.get_text(strip=True) if seqname else \"No seqname found\"\n",
    "        seq_data = seqdata.get_text(strip=True) if seqdata else \"No seqdata found\"\n",
    "        # print(seqname)\n",
    "        # print(seqdata)\n",
    "        \n",
    "        sections = soup.find_all(\"div\", class_=\"section\")\n",
    "\n",
    "        # ---------------------------------------------------------------------------\n",
    "        for section in sections:\n",
    "            sectname = section.find(\"div\", class_=\"sectname\").get_text(strip=True)\n",
    "            # print(f\"Section Name: {sectname}\")\n",
    "            \n",
    "            sectbody = section.find(\"div\", class_=\"sectbody\")\n",
    "            \n",
    "            links = sectbody.find_all(\"a\")  # Find all <a> tags inside sectbody\n",
    "        \n",
    "            for link in links:\n",
    "                link_text = link.get_text(strip=True)  # Extract the visible text of the link\n",
    "                href = link.get(\"href\")  # Extract the URL\n",
    "                title = link.get(\"title\", \"--------------------------------\")\n",
    "                # print(f\"  Link Text: {link_text}. URL: {href}, TITLE: {title}\")\n",
    "                # add_node_with_relation(from_id, link_text, elements, sectname, title, href)\n",
    "                \n",
    "                session.run(\"\"\"\n",
    "                    MERGE (from:Sequence {id: $sequence_number, seq_name: $seq_name, seq_data: $seq_data})\n",
    "                    MERGE (to:Sequence {id: $to_id})\n",
    "                    SET to.from_title = $title\n",
    "                    MERGE (from)-[r:`%s`]->(to)\n",
    "                    \"\"\" % sectname,\n",
    "                    sequence_number=sequence_number,\n",
    "                    to_id=link_text,\n",
    "                    title=title,\n",
    "                    seq_name=seq_name, \n",
    "                    seq_data=seq_data\n",
    "                )\n",
    "            # print(f\"  URL: {href}\")\n",
    "print(time.time()-init_time, \"secs\")\n"
   ]
  },
  {
   "cell_type": "code",
   "execution_count": null,
   "metadata": {},
   "outputs": [],
   "source": []
  }
 ],
 "metadata": {
  "kernelspec": {
   "display_name": "Python 3",
   "language": "python",
   "name": "python3"
  },
  "language_info": {
   "codemirror_mode": {
    "name": "ipython",
    "version": 3
   },
   "file_extension": ".py",
   "mimetype": "text/x-python",
   "name": "python",
   "nbconvert_exporter": "python",
   "pygments_lexer": "ipython3",
   "version": "3.12.0"
  }
 },
 "nbformat": 4,
 "nbformat_minor": 2
}
