{
 "cells": [
  {
   "cell_type": "markdown",
   "metadata": {},
   "source": [
    "MATCH (s:Sequence)-[r:AUTHOR]->(a:Sequence)\n",
    "RETURN s, a"
   ]
  },
  {
   "cell_type": "markdown",
   "metadata": {},
   "source": [
    "\n",
    "MATCH (s:Sequence)-[r:AUTHOR]->(a:Sequence)\n",
    "WITH s, a, COUNT(r) AS connections\n",
    "WHERE connections >= 20\n",
    "RETURN s, a\n"
   ]
  },
  {
   "cell_type": "markdown",
   "metadata": {},
   "source": [
    "\n",
    "###  working Q\n",
    "##### bad Q\n",
    "MATCH (n:Sequence)\n",
    "WITH n, COUNT { (n)--() } as connectionCount\n",
    "WHERE connectionCount >= 1300\n",
    "WITH n\n",
    "MATCH (n)-[r]-(connected:Sequence)\n",
    "RETURN n, r, connected LIMIT 20;"
   ]
  },
  {
   "cell_type": "markdown",
   "metadata": {},
   "source": [
    "##### OK Query\n",
    "MATCH (n:Sequence)\n",
    "WITH n, COUNT { (n)--() } as connectionCount\n",
    "WHERE connectionCount >= 250\n",
    "WITH COLLECT(n) as highlyConnectedNodes\n",
    "UNWIND highlyConnectedNodes as n\n",
    "MATCH (n)-[r]-(connected:Sequence)\n",
    "WHERE connected IN highlyConnectedNodes\n",
    "RETURN n, r, connected LIMIT 20;"
   ]
  },
  {
   "cell_type": "markdown",
   "metadata": {},
   "source": [
    "##### Good Query, But not so sparse graph, even after filtering and reducing to display prominent nodes  \n",
    "\n",
    "MATCH (s1:Sequence)-[cr1:CROSSREFS]->(sm:Sequence)<-[cr2:CROSSREFS]-(s2:Sequence) \n",
    "WITH s1, COUNT(DISTINCT sm) AS seqCount\n",
    "WHERE seqCount > 60\n",
    "MATCH (s1:Sequence)-[cr1:CROSSREFS]->(s2:Sequence) \n",
    "RETURN s1, cr1, s2\n",
    "\n",
    "\n",
    "\n",
    "##### \n",
    "MATCH (s1:Sequence)-[cr1:CROSSREFS]->(s2:Sequence) \n",
    "WITH s1, COUNT(DISTINCT s2) AS seqCount\n",
    "WHERE seqCount > 60\n",
    "MATCH (s1:Sequence)-[cr1:CROSSREFS]->(s2:Sequence) \n",
    "RETURN s1, cr1, s2 \n"
   ]
  },
  {
   "cell_type": "markdown",
   "metadata": {},
   "source": [
    "MATCH (n)-[r:AUTHOR]->(m)\n",
    "WITH n, COUNT(DISTINCT m) AS aCount\n",
    "WHERE aCount > 2\n",
    "MATCH (n)-[r:AUTHOR]->(m)\n",
    "RETURN n, r, m"
   ]
  },
  {
   "cell_type": "markdown",
   "metadata": {},
   "source": []
  }
 ],
 "metadata": {
  "kernelspec": {
   "display_name": "Python 3",
   "language": "python",
   "name": "python3"
  },
  "language_info": {
   "codemirror_mode": {
    "name": "ipython",
    "version": 3
   },
   "file_extension": ".py",
   "mimetype": "text/x-python",
   "name": "python",
   "nbconvert_exporter": "python",
   "pygments_lexer": "ipython3",
   "version": "3.12.6"
  }
 },
 "nbformat": 4,
 "nbformat_minor": 2
}
